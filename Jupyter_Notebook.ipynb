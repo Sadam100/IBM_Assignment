{
  "metadata": {
    "kernelspec": {
      "name": "python",
      "display_name": "Pyolite",
      "language": "python"
    },
    "language_info": {
      "codemirror_mode": {
        "name": "python",
        "version": 3
      },
      "file_extension": ".py",
      "mimetype": "text/x-python",
      "name": "python",
      "nbconvert_exporter": "python",
      "pygments_lexer": "ipython3",
      "version": "3.8"
    }
  },
  "nbformat_minor": 4,
  "nbformat": 4,
  "cells": [
    {
      "cell_type": "markdown",
      "source": "<center>\n    <img src=\"https://cf-courses-data.s3.us.cloud-object-storage.appdomain.cloud/IBMDeveloperSkillsNetwork-DS0105EN-SkillsNetwork/labs/Module2/images/SN_web_lightmode.png\" width=\"300\" alt=\"cognitiveclass.ai logo\"  />\n</center>\n",
      "metadata": {}
    },
    {
      "cell_type": "markdown",
      "source": "#### Add your code below following the instructions given in the course\n",
      "metadata": {}
    },
    {
      "cell_type": "markdown",
      "source": "# My Jupyter Notebook on IBM Watson Studio",
      "metadata": {}
    },
    {
      "cell_type": "markdown",
      "source": "**Sadam Hussain**\n\nData Scientist",
      "metadata": {}
    },
    {
      "cell_type": "markdown",
      "source": "*I am interested in Data Science because I think It is widely used in health-care, banking, consultancy services, and e-commerce industries. Data Science is a very versatile field. Therefore, I will have the opportunity to work in various fields. Data Science involves the usage of Machine Learning which has enabled industries to create better products tailored specifically for customer experiences. For example, Recommendation Systems used by e-commerce websites provide personalized insights to users based on their historical purchases. This has enabled computers to understand human-behaviour and make data-driven decisions. Healthcare sector has been greatly improved because of Data Science. With the advent of machine learning, it has been made easier to detect early-stage tumors.*",
      "metadata": {}
    },
    {
      "cell_type": "markdown",
      "source": "### The following code will execute for each \"x\" value (range from 1 to 11 excluding 11) and multiply each \"x\" value with 2 and print",
      "metadata": {}
    },
    {
      "cell_type": "code",
      "source": "for x in range(1, 11):\n    print(\"Multiplication of Two:\", 2 * x)",
      "metadata": {
        "trusted": true
      },
      "execution_count": 5,
      "outputs": [
        {
          "name": "stdout",
          "text": "Multiplication of Two: 2\nMultiplication of Two: 4\nMultiplication of Two: 6\nMultiplication of Two: 8\nMultiplication of Two: 10\nMultiplication of Two: 12\nMultiplication of Two: 14\nMultiplication of Two: 16\nMultiplication of Two: 18\nMultiplication of Two: 20\n",
          "output_type": "stream"
        }
      ]
    },
    {
      "cell_type": "markdown",
      "source": "Multiplication of 2\n***\n\n| Table| Counter| Result|\n| ----  |:----:  | -----:|\n| 2  *  | 1      |     2 |\n| 2  *  | 2      |     4 |\n| 2  *  | 3      |     6 |\n| 2  *  | 4      |     8 |\n| 2  *  | 5      |     10|\n| 2  *  | 6      |     12|\n| 2  *  | 7      |     14|\n| 2  *  | 8      |     16|\n| 2  *  | 9      |     18|\n| 2  *  | 9      |     20|\n\n[My Github Link](https://github.com/Sadam100)\n\nI used the following in this Cell 6\n* Horizontal Rule\n- Table\n+ Hyperlink\n- Bulleted List",
      "metadata": {}
    },
    {
      "cell_type": "code",
      "source": "",
      "metadata": {},
      "execution_count": null,
      "outputs": []
    }
  ]
}